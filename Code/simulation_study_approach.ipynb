{
 "cells": [
  {
   "cell_type": "code",
   "execution_count": 44,
   "metadata": {},
   "outputs": [],
   "source": [
    "rm(list=ls())\n",
    "library(refund);\n",
    "library(ggplot2)\n",
    "library(dplyr); \n",
    "library(dplyr); \n",
    "library(reshape2); \n",
    "library(fda);\n",
    "set.seed(100)"
   ]
  },
  {
   "cell_type": "markdown",
   "metadata": {},
   "source": [
    "# Table of contents: tbd"
   ]
  },
  {
   "cell_type": "code",
   "execution_count": 69,
   "metadata": {},
   "outputs": [],
   "source": [
    "# set up \"global\" variables\n",
    "n_obs = 20\n",
    "n_var = 150 #number of vars\n",
    "grid = seq(0, 1, length = n_var+1)\n",
    "beta1 = sin(grid * 2 * pi)\n",
    "beta2 = -dnorm(grid, mean=.2, sd=.03) +3*dnorm(grid, mean=.5,\n",
    "sd=.04)+dnorm(grid, mean=.75, sd=.05)\n",
    "\n",
    "nharm = 4 #number of fpc\n"
   ]
  },
  {
   "cell_type": "code",
   "execution_count": 70,
   "metadata": {},
   "outputs": [],
   "source": [
    "data_generation <-function(){\n",
    "var1 = 1\n",
    "var2 = 5\n",
    "var3 = 0.2\n",
    "\n",
    "X <- matrix(0, nrow=n_obs, ncol=length(grid))\n",
    "for(i2 in 1:n_obs){\n",
    "    X[i2,]=X[i2,]+rnorm(length(grid), 0, var1)\n",
    "    X[i2,]=X[i2,]+runif(1, 0, var2)\n",
    "    X[i2,]=X[i2,]+rnorm(1, 0, var3)*grid\n",
    "    \n",
    "    for(j2 in 1:10){\n",
    "        e =rnorm(2, 0, var1/j2^(2))\n",
    "        X[i2,]=X[i2,]+e[1]*sin((2*pi)*grid*j2)\n",
    "        X[i2,]=X[i2,]+e[2]*cos((2*pi)*grid*j2)\n",
    "    }\n",
    "    \n",
    "}\n",
    "return(X)\n",
    "'\n",
    "# This is a \"more clear\" setup\n",
    "\n",
    "X <- matrix(0, nrow=n_obs, ncol=length(grid))\n",
    "for(i2 in 1:n_obs){\n",
    "    X[i2,]=X[i2,]+rnorm(length(grid), 0, var1)\n",
    "    X[i2,]=X[i2,]+runif(1, 0, var2)\n",
    "    X[i2,]=X[i2,]+rnorm(1, 0, var3)*grid\n",
    "    \n",
    "    e=abs(rnorm(2, 0, 1**(2)))\n",
    "    X[i2,]=X[i2,]+e[1]*sin((2*pi)*grid)\n",
    "    X[i2,]=X[i2,]+e[2]*cos((2*pi)*grid)\n",
    "    \n",
    "    \n",
    "    \n",
    "}\n",
    "return(X)\n",
    "'\n",
    "}\n",
    "\n"
   ]
  },
  {
   "cell_type": "code",
   "execution_count": 71,
   "metadata": {},
   "outputs": [
    {
     "data": {
      "text/html": [
       "<ol class=list-inline>\n",
       "\t<li>151</li>\n",
       "\t<li>20</li>\n",
       "</ol>\n"
      ],
      "text/latex": [
       "\\begin{enumerate*}\n",
       "\\item 151\n",
       "\\item 20\n",
       "\\end{enumerate*}\n"
      ],
      "text/markdown": [
       "1. 151\n",
       "2. 20\n",
       "\n",
       "\n"
      ],
      "text/plain": [
       "[1] 151  20"
      ]
     },
     "metadata": {},
     "output_type": "display_data"
    },
    {
     "data": {
      "text/html": [
       "<ol class=list-inline>\n",
       "\t<li>0.848606852093189</li>\n",
       "\t<li>0.0819046005284973</li>\n",
       "\t<li>0.0509749131346973</li>\n",
       "\t<li>0.00823850501123225</li>\n",
       "</ol>\n"
      ],
      "text/latex": [
       "\\begin{enumerate*}\n",
       "\\item 0.848606852093189\n",
       "\\item 0.0819046005284973\n",
       "\\item 0.0509749131346973\n",
       "\\item 0.00823850501123225\n",
       "\\end{enumerate*}\n"
      ],
      "text/markdown": [
       "1. 0.848606852093189\n",
       "2. 0.0819046005284973\n",
       "3. 0.0509749131346973\n",
       "4. 0.00823850501123225\n",
       "\n",
       "\n"
      ],
      "text/plain": [
       "[1] 0.848606852 0.081904601 0.050974913 0.008238505"
      ]
     },
     "metadata": {},
     "output_type": "display_data"
    },
    {
     "data": {
      "text/html": [
       "'done'"
      ],
      "text/latex": [
       "'done'"
      ],
      "text/markdown": [
       "'done'"
      ],
      "text/plain": [
       "[1] \"done\""
      ]
     },
     "metadata": {},
     "output_type": "display_data"
    },
    {
     "data": {
      "image/png": "[encoded data removed]",
      "text/plain": [
       "plot without title"
      ]
     },
     "metadata": {},
     "output_type": "display_data"
    }
   ],
   "source": [
    "X = data_generation()\n",
    "Y = X %*% beta1*(1/n_var)  + rnorm(n_obs, 0, 0.125) \n",
    "Y = as.numeric(Y)\n",
    "final_X = t(X)\n",
    "dim(final_X) # transpose, st obsverations now in columns // \n",
    "#todo: check if dim correct \n",
    "\n",
    "\n",
    "smallbasis  <- create.bspline.basis(rangeval = c(0, length(grid)), nbasis = 12, 7)\n",
    "harmFdpar = fdPar(smallbasis)\n",
    "\n",
    "smooth_basis <- smooth.basis(y = final_X, fdParobj=smallbasis)\n",
    "smooth_basis_fd = smooth_basis$fd\n",
    "\n",
    "simulated_pcaObj = pca.fd(smooth_basis$fd, nharm = nharm, harmfdPar = harmFdpar, centerfns = FALSE)\n",
    "\n",
    "simulated_pcaObj$varprop \n",
    "# todo:use to choose appropriate level of explained variance\n",
    "\n",
    "plot(smooth_basis_fd, ylab=\"\", xlab=\"\",col=\"gray\")"
   ]
  },
  {
   "cell_type": "code",
   "execution_count": 72,
   "metadata": {},
   "outputs": [
    {
     "data": {
      "text/html": [
       "<span style=white-space:pre-wrap>'\\nxfdlist &lt;- list(const=rep(1, n_obs), smooth_basis=smooth_basis_fd)\\nbetabasis1 &lt;- create.constant.basis(c(0, n_obs))\\nbetafd1    &lt;- fd(0, betabasis1)\\nbetafdPar1 &lt;- fdPar(betafd1)\\nbetafd2    &lt;- create.bspline.basis(rangeval = c(0, n_var+1), nbasis = 12, 7)\\nbetafdPar2  &lt;- fdPar(betafd2)\\nbetalist &lt;- list(const=betafdPar1, smooth_basis_fd=betafdPar2)\\nf_regress &lt;- fRegress(y = Y, xfdlist, betalist)\\n'</span>"
      ],
      "text/latex": [
       "'\\textbackslash{}nxfdlist <- list(const=rep(1, n\\_obs), smooth\\_basis=smooth\\_basis\\_fd)\\textbackslash{}nbetabasis1 <- create.constant.basis(c(0, n\\_obs))\\textbackslash{}nbetafd1    <- fd(0, betabasis1)\\textbackslash{}nbetafdPar1 <- fdPar(betafd1)\\textbackslash{}nbetafd2    <- create.bspline.basis(rangeval = c(0, n\\_var+1), nbasis = 12, 7)\\textbackslash{}nbetafdPar2  <- fdPar(betafd2)\\textbackslash{}nbetalist <- list(const=betafdPar1, smooth\\_basis\\_fd=betafdPar2)\\textbackslash{}nf\\_regress <- fRegress(y = Y, xfdlist, betalist)\\textbackslash{}n'"
      ],
      "text/markdown": [
       "<span style=white-space:pre-wrap>'\\nxfdlist &lt;- list(const=rep(1, n_obs), smooth_basis=smooth_basis_fd)\\nbetabasis1 &lt;- create.constant.basis(c(0, n_obs))\\nbetafd1    &lt;- fd(0, betabasis1)\\nbetafdPar1 &lt;- fdPar(betafd1)\\nbetafd2    &lt;- create.bspline.basis(rangeval = c(0, n_var+1), nbasis = 12, 7)\\nbetafdPar2  &lt;- fdPar(betafd2)\\nbetalist &lt;- list(const=betafdPar1, smooth_basis_fd=betafdPar2)\\nf_regress &lt;- fRegress(y = Y, xfdlist, betalist)\\n'</span>"
      ],
      "text/plain": [
       "[1] \"\\nxfdlist <- list(const=rep(1, n_obs), smooth_basis=smooth_basis_fd)\\nbetabasis1 <- create.constant.basis(c(0, n_obs))\\nbetafd1    <- fd(0, betabasis1)\\nbetafdPar1 <- fdPar(betafd1)\\nbetafd2    <- create.bspline.basis(rangeval = c(0, n_var+1), nbasis = 12, 7)\\nbetafdPar2  <- fdPar(betafd2)\\nbetalist <- list(const=betafdPar1, smooth_basis_fd=betafdPar2)\\nf_regress <- fRegress(y = Y, xfdlist, betalist)\\n\""
      ]
     },
     "metadata": {},
     "output_type": "display_data"
    },
    {
     "data": {
      "text/html": [
       "'done'"
      ],
      "text/latex": [
       "'done'"
      ],
      "text/markdown": [
       "'done'"
      ],
      "text/plain": [
       "[1] \"done\""
      ]
     },
     "metadata": {},
     "output_type": "display_data"
    },
    {
     "name": "stdout",
     "output_type": "stream",
     "text": [
      "[1] 0.002515535\n"
     ]
    },
    {
     "data": {
      "image/png": "[encoded data removed]",
      "text/plain": [
       "plot without title"
      ]
     },
     "metadata": {},
     "output_type": "display_data"
    },
    {
     "data": {
      "image/png": "[encoded data removed]",
      "text/plain": [
       "plot without title"
      ]
     },
     "metadata": {},
     "output_type": "display_data"
    }
   ],
   "source": [
    "'\n",
    "xfdlist <- list(const=rep(1, n_obs), smooth_basis=smooth_basis_fd)\n",
    "betabasis1 <- create.constant.basis(c(0, n_obs))\n",
    "betafd1    <- fd(0, betabasis1)\n",
    "betafdPar1 <- fdPar(betafd1)\n",
    "betafd2    <- create.bspline.basis(rangeval = c(0, n_var+1), nbasis = 12, 7)\n",
    "betafdPar2  <- fdPar(betafd2)\n",
    "betalist <- list(const=betafdPar1, smooth_basis_fd=betafdPar2)\n",
    "f_regress <- fRegress(y = Y, xfdlist, betalist)\n",
    "'\n",
    "# also possible to use formula interface:\n",
    "f_regress2 <- fRegress(Y ~ smooth_basis_fd)\n",
    "\n",
    "\n",
    "prec <- f_regress2$yhatfdobj#, newdata = gasoline_fd_test, level = 0.95)\n",
    "\n",
    "#  plot the data and the fit\n",
    "plot(f_regress2$betaestlist[[2]])\n",
    "MSE <- mean((Y-prec)^2)\n",
    "print(MSE)\n",
    "plot(prec, Y, type=\"p\", pch=\"o\")\n"
   ]
  },
  {
   "cell_type": "markdown",
   "metadata": {},
   "source": [
    "## FPCR"
   ]
  },
  {
   "cell_type": "code",
   "execution_count": 73,
   "metadata": {},
   "outputs": [
    {
     "data": {
      "text/html": [
       "<table>\n",
       "<thead><tr><th></th><th scope=col>Estimate</th><th scope=col>Std. Error</th><th scope=col>t value</th><th scope=col>Pr(&gt;|t|)</th></tr></thead>\n",
       "<tbody>\n",
       "\t<tr><th scope=row>(Intercept)</th><td> 0.117932165</td><td>0.052634615 </td><td>  2.2405819 </td><td>4.061578e-02</td></tr>\n",
       "\t<tr><th scope=row>simulated_pcaObj$scores1</th><td> 0.001930163</td><td>0.001600278 </td><td>  1.2061426 </td><td>2.464429e-01</td></tr>\n",
       "\t<tr><th scope=row>simulated_pcaObj$scores2</th><td> 0.043388894</td><td>0.002459029 </td><td> 17.6447275 </td><td>1.922423e-11</td></tr>\n",
       "\t<tr><th scope=row>simulated_pcaObj$scores3</th><td>-0.033822044</td><td>0.003148390 </td><td>-10.7426471 </td><td>1.931616e-08</td></tr>\n",
       "\t<tr><th scope=row>simulated_pcaObj$scores4</th><td>-0.002914489</td><td>0.007784941 </td><td> -0.3743752 </td><td>7.133647e-01</td></tr>\n",
       "</tbody>\n",
       "</table>\n"
      ],
      "text/latex": [
       "\\begin{tabular}{r|llll}\n",
       "  & Estimate & Std. Error & t value & Pr(>\\textbar{}t\\textbar{})\\\\\n",
       "\\hline\n",
       "\t(Intercept) &  0.117932165 & 0.052634615  &   2.2405819  & 4.061578e-02\\\\\n",
       "\tsimulated\\_pcaObj\\$scores1 &  0.001930163 & 0.001600278  &   1.2061426  & 2.464429e-01\\\\\n",
       "\tsimulated\\_pcaObj\\$scores2 &  0.043388894 & 0.002459029  &  17.6447275  & 1.922423e-11\\\\\n",
       "\tsimulated\\_pcaObj\\$scores3 & -0.033822044 & 0.003148390  & -10.7426471  & 1.931616e-08\\\\\n",
       "\tsimulated\\_pcaObj\\$scores4 & -0.002914489 & 0.007784941  &  -0.3743752  & 7.133647e-01\\\\\n",
       "\\end{tabular}\n"
      ],
      "text/markdown": [
       "\n",
       "| <!--/--> | Estimate | Std. Error | t value | Pr(>|t|) |\n",
       "|---|---|---|---|---|\n",
       "| (Intercept) |  0.117932165 | 0.052634615  |   2.2405819  | 4.061578e-02 |\n",
       "| simulated_pcaObj$scores1 |  0.001930163 | 0.001600278  |   1.2061426  | 2.464429e-01 |\n",
       "| simulated_pcaObj$scores2 |  0.043388894 | 0.002459029  |  17.6447275  | 1.922423e-11 |\n",
       "| simulated_pcaObj$scores3 | -0.033822044 | 0.003148390  | -10.7426471  | 1.931616e-08 |\n",
       "| simulated_pcaObj$scores4 | -0.002914489 | 0.007784941  |  -0.3743752  | 7.133647e-01 |\n",
       "\n"
      ],
      "text/plain": [
       "                         Estimate     Std. Error  t value     Pr(>|t|)    \n",
       "(Intercept)               0.117932165 0.052634615   2.2405819 4.061578e-02\n",
       "simulated_pcaObj$scores1  0.001930163 0.001600278   1.2061426 2.464429e-01\n",
       "simulated_pcaObj$scores2  0.043388894 0.002459029  17.6447275 1.922423e-11\n",
       "simulated_pcaObj$scores3 -0.033822044 0.003148390 -10.7426471 1.931616e-08\n",
       "simulated_pcaObj$scores4 -0.002914489 0.007784941  -0.3743752 7.133647e-01"
      ]
     },
     "metadata": {},
     "output_type": "display_data"
    },
    {
     "data": {
      "text/html": [
       "<span style=white-space:pre-wrap>'\\n          This all has to become flexible! S.t we can choose the desired components that explain a\\n          certain amount of the variance and then this will become dynamic\\n'</span>"
      ],
      "text/latex": [
       "'\\textbackslash{}n          This all has to become flexible! S.t we can choose the desired components that explain a\\textbackslash{}n          certain amount of the variance and then this will become dynamic\\textbackslash{}n'"
      ],
      "text/markdown": [
       "<span style=white-space:pre-wrap>'\\n          This all has to become flexible! S.t we can choose the desired components that explain a\\n          certain amount of the variance and then this will become dynamic\\n'</span>"
      ],
      "text/plain": [
       "[1] \"\\n          This all has to become flexible! S.t we can choose the desired components that explain a\\n          certain amount of the variance and then this will become dynamic\\n\""
      ]
     },
     "metadata": {},
     "output_type": "display_data"
    },
    {
     "data": {
      "text/html": [
       "'done'"
      ],
      "text/latex": [
       "'done'"
      ],
      "text/markdown": [
       "'done'"
      ],
      "text/plain": [
       "[1] \"done\""
      ]
     },
     "metadata": {},
     "output_type": "display_data"
    },
    {
     "name": "stdout",
     "output_type": "stream",
     "text": [
      "[1] 0.00944096\n"
     ]
    },
    {
     "data": {
      "image/png": "[encoded data removed]",
      "text/plain": [
       "plot without title"
      ]
     },
     "metadata": {},
     "output_type": "display_data"
    },
    {
     "data": {
      "image/png": "[encoded data removed]",
      "text/plain": [
       "plot without title"
      ]
     },
     "metadata": {},
     "output_type": "display_data"
    }
   ],
   "source": [
    "xfdlist <- list(const=rep(1, n_obs), smooth_basis=smooth_basis_fd)\n",
    "betabasis1 <- create.constant.basis(c(0, n_obs))\n",
    "betafd1    <- fd(0, betabasis1)\n",
    "betafdPar1 <- fdPar(betafd1)\n",
    "# here the magic happens!\n",
    "betafdPar2  <- fdPar(simulated_pcaObj$harmonics)\n",
    "betalist_pca <- list(const=betafdPar1, smooth_basis_fd=betafdPar2)\n",
    "\n",
    "f_regress_pca <- lm(Y~simulated_pcaObj$scores)\n",
    "pca_coeffs = summary(f_regress_pca)$coef\n",
    "pca_coeffs\n",
    "\n",
    "betafd = pca_coeffs[2,1]*simulated_pcaObj$harmonics[1] +\n",
    "        pca_coeffs[3,1]*simulated_pcaObj$harmonics[2] + \n",
    "        pca_coeffs[4,1]*simulated_pcaObj$harmonics[3]+ \n",
    "        pca_coeffs[5,1]*simulated_pcaObj$harmonics[4]\n",
    "\n",
    "\n",
    "coefvar = pca_coeffs[,2]**2\n",
    "\n",
    "betavar = (pca_coeffs[2] * simulated_pcaObj$harmonics[1])**2 +\n",
    "          (pca_coeffs[3] * simulated_pcaObj$harmonics[2])**2 +\n",
    "          (pca_coeffs[4] * simulated_pcaObj$harmonics[3])**2 + \n",
    "          (pca_coeffs[5] * simulated_pcaObj$harmonics[4])**2\n",
    "'\n",
    "          This all has to become flexible! S.t we can choose the desired components that explain a\n",
    "          certain amount of the variance and then this will become dynamic\n",
    "'\n",
    "\n",
    "plot(betafd)\n",
    "lines(betafd+2*sqrt(betavar), lty=2, lwd=1)\n",
    "lines(betafd-2*sqrt(betavar), lty=2, lwd=1)\n",
    "\n",
    "\n",
    "prec <- predict(f_regress_pca)\n",
    "#  plot the data and the fit\n",
    "MSE <- mean((Y-prec)^2)\n",
    "print(MSE)\n",
    "plot(prec, Y, type=\"p\", pch=\"o\")\n"
   ]
  },
  {
   "cell_type": "code",
   "execution_count": null,
   "metadata": {},
   "outputs": [],
   "source": []
  }
 ],
 "metadata": {
  "kernelspec": {
   "display_name": "R",
   "language": "R",
   "name": "python388jvsc74a57bd08d69c7b873228283da006535443a47f506091cbbe677a2584f5a20852b3df372"
  },
  "language_info": {
   "codemirror_mode": "r",
   "file_extension": ".r",
   "mimetype": "text/x-r-source",
   "name": "R",
   "pygments_lexer": "r",
   "version": "3.6.1"
  },
  "orig_nbformat": 4
 },
 "nbformat": 4,
 "nbformat_minor": 2
}
