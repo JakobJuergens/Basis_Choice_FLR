{
 "cells": [
  {
   "cell_type": "code",
   "execution_count": 3,
   "metadata": {},
   "outputs": [],
   "source": [
    "rm(list=ls())\n",
    "library(refund);\n",
    "library(ggplot2) ;\n",
    "library(dplyr); \n",
    "library(reshape2); \n",
    "library(fda);\n",
    "set.seed(100)"
   ]
  },
  {
   "cell_type": "code",
   "execution_count": 14,
   "metadata": {},
   "outputs": [],
   "source": [
    "data(gasoline)\n",
    "data = matrix(gasoline)\n",
    "octane = c(unlist(data[1]))\n",
    "waves = matrix(unlist(data[2]), ncol = 60)\n",
    "\n",
    "test = seq(1,30,1)\n",
    "\n",
    "waves_test= waves[,test]\n",
    "octane_test = octane[test]\n",
    "\n",
    "waves_train= waves[,-test]\n",
    "wavelengths = 2*450:850\n",
    "octane_train = octane[-test]"
   ]
  },
  {
   "cell_type": "code",
   "execution_count": 16,
   "metadata": {},
   "outputs": [],
   "source": [
    "smallbasis  <- create.bspline.basis(rangeval = c(0, 401), nbasis = 20, 5)\n",
    "harmFdpar = fdPar(smallbasis)\n",
    "\n",
    "gasoline_fd_train <- smooth.basis(y = waves_train, fdParobj=smallbasis)$fd\n",
    "gasoline_fd_test <- smooth.basis(y = waves_test, fdParobj=smallbasis)$fd\n",
    "gasoline_pcaObj = pca.fd(gasoline_fd_train, nharm = 4, harmfdPar = harmFdpar, centerfns = FALSE)\n",
    "# \n",
    "#plot(gasoline_fd_train, ylab=\"\", xlab=\"\",col=\"gray\")"
   ]
  },
  {
   "cell_type": "code",
   "execution_count": 43,
   "metadata": {},
   "outputs": [
    {
     "ename": "ERROR",
     "evalue": "Error: $ operator is invalid for atomic vectors\n",
     "output_type": "error",
     "traceback": [
      "Error: $ operator is invalid for atomic vectors\nTraceback:\n",
      "1. predict(f_regress2, newdata = gasoline_fd_test, level = 0.95)",
      "2. predict.fRegress(f_regress2, newdata = gasoline_fd_test, level = 0.95)"
     ]
    }
   ],
   "source": [
    "xfdlist_test <- list(const=rep(1, 30), gasoline_fd_test=gasoline_fd_test)\n",
    "# also possible to use formula interface:\n",
    "f_regress2 <- fRegress(octane_train ~ gasoline_fd_train)\n",
    "\n",
    "\n",
    "prec <- predict(f_regress2$yhatfdobj)#, newdata = gasoline_fd_test, level = 0.95)\n",
    "\n",
    "#  plot the data and the fit\n",
    "plot(f_regress2$betaestlist[[2]])\n",
    "MSE <- mean((octane_test-prec)^2)\n",
    "print(MSE)\n",
    "plot(prec, octane_test, type=\"p\", pch=\"o\")\n"
   ]
  },
  {
   "cell_type": "code",
   "execution_count": null,
   "metadata": {},
   "outputs": [],
   "source": []
  }
 ],
 "metadata": {
  "interpreter": {
   "hash": "8d69c7b873228283da006535443a47f506091cbbe677a2584f5a20852b3df372"
  },
  "kernelspec": {
   "display_name": "R",
   "language": "R",
   "name": "python388jvsc74a57bd08d69c7b873228283da006535443a47f506091cbbe677a2584f5a20852b3df372"
  },
  "language_info": {
   "codemirror_mode": "r",
   "file_extension": ".r",
   "mimetype": "text/x-r-source",
   "name": "R",
   "pygments_lexer": "r",
   "version": "3.6.1"
  },
  "orig_nbformat": 4
 },
 "nbformat": 4,
 "nbformat_minor": 2
}
